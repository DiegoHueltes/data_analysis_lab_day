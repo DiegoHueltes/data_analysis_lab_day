{
 "cells": [
  {
   "cell_type": "markdown",
   "metadata": {
    "collapsed": true
   },
   "source": [
    "# Data analysis & prediction\n",
    "David Gasquez & Diego Hueltes\n",
    "\n",
    "## Tools\n",
    "Useful tools for data analysis\n",
    "- [Overview](#overview)\n",
    "- [Jupyter](#jupyter)\n",
    "- [Pandas](#pandas)\n",
    "- [Seaborn](#seaborn)\n",
    "- [bcolz](#bcolz)\n",
    "- [Other tools](#other-tools)\n",
    "\n",
    "## Data pipeline\n",
    "Modeling workflow\n",
    "- [Preprocesing](#preprocesing)\n",
    "- [Analysis](#analysis)\n",
    "- [Modeling](#modeling)\n",
    "- [Model deployment](#deployment)\n",
    "- [Model monitoring](#model-monitoring)\n",
    "\n",
    "## Demo\n",
    "Demo time!\n",
    "- [Demo](#demo)"
   ]
  },
  {
   "cell_type": "markdown",
   "metadata": {},
   "source": [
    "<a id='overview'></a>\n",
    "# Overview"
   ]
  },
  {
   "cell_type": "markdown",
   "metadata": {
    "collapsed": false
   },
   "source": [
    "<img src=\"https://avatars3.githubusercontent.com/u/7388996\" width=\"400\">\n",
    "<img src=\"http://www.numfocus.org/uploads/6/0/6/9/60696727/6893890_orig.png\" width=\"600\">\n",
    "<img src=\"https://upload.wikimedia.org/wikipedia/commons/thumb/0/01/Created_with_Matplotlib-logo.svg/2000px-Created_with_Matplotlib-logo.svg.png\" width=\"300\">\n",
    "<img src=\"https://github.com/Blosc/bcolz/raw/master/doc/bcolz.png\" width=\"300\">\n",
    "<img src=\"https://github.com/visualfabriq/bquery/raw/master/bquery.png\" width=\"300\">\n",
    "<img src=\"https://avatars2.githubusercontent.com/u/365630?v=3&s=400\" width=\"400\">"
   ]
  },
  {
   "cell_type": "code",
   "execution_count": null,
   "metadata": {
    "collapsed": true
   },
   "outputs": [],
   "source": []
  }
 ],
 "metadata": {
  "kernelspec": {
   "display_name": "Python 3",
   "language": "python",
   "name": "python3"
  },
  "language_info": {
   "codemirror_mode": {
    "name": "ipython",
    "version": 3
   },
   "file_extension": ".py",
   "mimetype": "text/x-python",
   "name": "python",
   "nbconvert_exporter": "python",
   "pygments_lexer": "ipython3",
   "version": "3.5.1"
  }
 },
 "nbformat": 4,
 "nbformat_minor": 0
}
