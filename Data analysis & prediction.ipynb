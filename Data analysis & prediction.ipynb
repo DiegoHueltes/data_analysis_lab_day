{
 "cells": [
  {
   "cell_type": "markdown",
   "metadata": {
    "collapsed": true
   },
   "source": [
    "# Data Analysis & Prediction\n",
    "David Gasquez & Diego Hueltes\n",
    "\n",
    "## Tools\n",
    "Useful tools for data analysis\n",
    "- [Overview](#overview)\n",
    "- [Jupyter](#jupyter)\n",
    "- [Pandas](#pandas)\n",
    "- [Seaborn](#seaborn)\n",
    "- [bcolz](#bcolz)\n",
    "- [Other tools](#other-tools)\n",
    "\n",
    "## Data pipeline\n",
    "Modeling workflow\n",
    "- [Preprocesing](#preprocesing)\n",
    "- [Analysis](#analysis)\n",
    "- [Modeling](#modeling)\n",
    "- [Model deployment](#deployment)\n",
    "- [Model monitoring](#model-monitoring)\n",
    "\n",
    "## Demo\n",
    "Demo time!\n",
    "- [Demo](#demo)"
   ]
  },
  {
   "cell_type": "markdown",
   "metadata": {},
   "source": [
    "<a id='overview'></a>\n",
    "# Overview"
   ]
  },
  {
   "cell_type": "markdown",
   "metadata": {
    "collapsed": false
   },
   "source": [
    "![Jupyter](https://avatars3.githubusercontent.com/u/7388996)\n",
    "![Pandas](http://www.numfocus.org/uploads/6/0/6/9/60696727/6893890_orig.png)"
   ]
  },
  {
   "cell_type": "markdown",
   "metadata": {},
   "source": [
    "<a id='Jupyter'></a>\n",
    "# Jupyter"
   ]
  },
  {
   "cell_type": "code",
   "execution_count": null,
   "metadata": {
    "collapsed": false
   },
   "outputs": [],
   "source": [
    "1 + 1"
   ]
  },
  {
   "cell_type": "code",
   "execution_count": null,
   "metadata": {
    "collapsed": true
   },
   "outputs": [],
   "source": [
    "two = 1 + 1"
   ]
  },
  {
   "cell_type": "code",
   "execution_count": null,
   "metadata": {
    "collapsed": false
   },
   "outputs": [],
   "source": [
    "print map(lambda x: \"Happy Birthday to \" + (\"you\" if x != two else \"Me\"), range(3))"
   ]
  },
  {
   "cell_type": "code",
   "execution_count": null,
   "metadata": {
    "collapsed": false
   },
   "outputs": [],
   "source": [
    "p = lambda x: ( -13214 * x**11 + 956318 * x**10 - 30516585 * x**9 + 564961485 * x**8\n",
    "                - 6717043212 * x**7 + 53614486464 * x**6 - 291627605005 * x**5\n",
    "                + 1074222731065 * x**4 - 2606048429424 * x**3 + 3927289106268 * x**2\n",
    "                - 3265905357360 * x + 1116073728000 ) / 19958400\n",
    "\n",
    "print bytearray(map(p, range(1, 13)))"
   ]
  },
  {
   "cell_type": "code",
   "execution_count": null,
   "metadata": {
    "collapsed": false
   },
   "outputs": [],
   "source": [
    "def f(x):\n",
    "    return (x * 5) * (x - 5) / (x + 5) + x + x * 42"
   ]
  },
  {
   "cell_type": "code",
   "execution_count": null,
   "metadata": {
    "collapsed": false
   },
   "outputs": [],
   "source": [
    "%time my_list = [f(x) for x in range(5000000)]"
   ]
  },
  {
   "cell_type": "code",
   "execution_count": null,
   "metadata": {
    "collapsed": false
   },
   "outputs": [],
   "source": [
    "import multiprocessing\n",
    "%time my_list = list(multiprocessing.Pool(processes=4).map(f, range(5000000)))"
   ]
  },
  {
   "cell_type": "code",
   "execution_count": null,
   "metadata": {
    "collapsed": false
   },
   "outputs": [],
   "source": [
    "!ls"
   ]
  },
  {
   "cell_type": "code",
   "execution_count": null,
   "metadata": {
    "collapsed": false
   },
   "outputs": [],
   "source": [
    "!while true; do head -c200 /dev/urandom | od -An -w40 -x | grep -E --color \"([[:alpha:]][[:digit:]]){2}\"; sleep 2; done"
   ]
  },
  {
   "cell_type": "markdown",
   "metadata": {},
   "source": [
    "<a id='Seaborn'></a>\n",
    "# Seaborn"
   ]
  },
  {
   "cell_type": "code",
   "execution_count": null,
   "metadata": {
    "collapsed": true
   },
   "outputs": [],
   "source": [
    "%matplotlib inline\n",
    "import numpy as np\n",
    "import seaborn as sns\n",
    "import matplotlib.pyplot as plt\n",
    "sns.set(style=\"ticks\")"
   ]
  },
  {
   "cell_type": "code",
   "execution_count": null,
   "metadata": {
    "collapsed": true
   },
   "outputs": [],
   "source": [
    "rs = np.random.RandomState(11)\n",
    "t = rs.gamma(2, size=1000)\n",
    "s = -.5 * x + rs.normal(size=1000)"
   ]
  },
  {
   "cell_type": "code",
   "execution_count": null,
   "metadata": {
    "collapsed": false
   },
   "outputs": [],
   "source": [
    "plt.scatter(t, s)\n",
    "plt.show()"
   ]
  },
  {
   "cell_type": "code",
   "execution_count": null,
   "metadata": {
    "collapsed": false
   },
   "outputs": [],
   "source": [
    "sns.jointplot(t, s, stat_func=None, size=10)\n",
    "plt.show()"
   ]
  },
  {
   "cell_type": "code",
   "execution_count": null,
   "metadata": {
    "collapsed": false
   },
   "outputs": [],
   "source": [
    "df = sns.load_dataset(\"iris\")\n",
    "sns.pairplot(df, hue=\"species\")"
   ]
  }
 ],
 "metadata": {
  "kernelspec": {
   "display_name": "Python 3",
   "language": "python",
   "name": "python3"
  },
  "language_info": {
   "codemirror_mode": {
    "name": "ipython",
    "version": 3
   },
   "file_extension": ".py",
   "mimetype": "text/x-python",
   "name": "python",
   "nbconvert_exporter": "python",
   "pygments_lexer": "ipython3",
   "version": "3.5.1"
  }
 },
 "nbformat": 4,
 "nbformat_minor": 0
}
